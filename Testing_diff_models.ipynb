{
  "nbformat": 4,
  "nbformat_minor": 0,
  "metadata": {
    "colab": {
      "provenance": []
    },
    "kernelspec": {
      "name": "python3",
      "display_name": "Python 3"
    },
    "language_info": {
      "name": "python"
    }
  },
  "cells": [
    {
      "cell_type": "markdown",
      "source": [
        "---\n",
        "# Import libraries Requried\n",
        "---"
      ],
      "metadata": {
        "id": "rz-9WtmtrQy_"
      }
    },
    {
      "cell_type": "code",
      "execution_count": 1,
      "metadata": {
        "id": "gw9qNR3dZ9x6"
      },
      "outputs": [],
      "source": [
        "import pandas as pd\n",
        "import numpy as np\n",
        "from sklearn.model_selection import train_test_split\n",
        "from sklearn.feature_extraction.text import TfidfVectorizer\n",
        "from sklearn.metrics import accuracy_score, precision_score, recall_score, f1_score\n",
        "from sklearn.linear_model import LogisticRegression\n",
        "from sklearn.svm import SVC\n",
        "from sklearn.ensemble import RandomForestClassifier\n",
        "# Import other models as needed\n"
      ]
    },
    {
      "cell_type": "markdown",
      "source": [
        "---\n",
        "# Loading Data and Spliting Data\n",
        "\n",
        " * to Test\n",
        " * to Train\n",
        " ---"
      ],
      "metadata": {
        "id": "O5eH12hsrd0E"
      }
    },
    {
      "cell_type": "code",
      "source": [
        "# Load preprocessed data\n",
        "file_path = '/content/drive/My Drive/Airline_Reviews_Preprocessed.csv'\n",
        "df = pd.read_csv(file_path)\n",
        "\n",
        "# Split data into features (X) and target (y)\n",
        "X = df['cleaned_reviews']\n",
        "y = df['label']\n",
        "\n",
        "# Split into training and testing sets\n",
        "X_train, X_test, y_train, y_test = train_test_split(X, y, test_size=0.2, random_state=42)\n"
      ],
      "metadata": {
        "id": "pPm430vnaDl7"
      },
      "execution_count": 2,
      "outputs": []
    },
    {
      "cell_type": "markdown",
      "source": [
        "---\n",
        "# Initialize Models\n",
        "\n",
        "testing different models and Obtaining Test Results.\n",
        "\n",
        "Models that are Tested:\n",
        " * Logistic Regression\n",
        " * Support Vector Machine\n",
        " * Random Forest\n",
        " ---"
      ],
      "metadata": {
        "id": "qjRNVjyPr3AQ"
      }
    },
    {
      "cell_type": "code",
      "source": [
        "# Initialize models\n",
        "models = {\n",
        "    'Logistic Regression': LogisticRegression(),\n",
        "    'Support Vector Machine': SVC(),\n",
        "    'Random Forest': RandomForestClassifier()\n",
        "    # Add more models as needed\n",
        "}\n",
        "\n",
        "# Train and evaluate each model\n",
        "results = {}\n",
        "for model_name, model in models.items():\n",
        "    # Vectorize text data\n",
        "    vectorizer = TfidfVectorizer(max_features=5000)\n",
        "    X_train_vec = vectorizer.fit_transform(X_train).toarray()\n",
        "    X_test_vec = vectorizer.transform(X_test).toarray()\n",
        "\n",
        "    # Train the model\n",
        "    model.fit(X_train_vec, y_train)\n",
        "\n",
        "    # Predictions\n",
        "    y_pred = model.predict(X_test_vec)\n",
        "\n",
        "    # Evaluate\n",
        "    accuracy = accuracy_score(y_test, y_pred)\n",
        "    precision = precision_score(y_test, y_pred)\n",
        "    recall = recall_score(y_test, y_pred)\n",
        "    f1 = f1_score(y_test, y_pred)\n",
        "\n",
        "    results[model_name] = {\n",
        "        'Accuracy': accuracy,\n",
        "        'Precision': precision,\n",
        "        'Recall': recall,\n",
        "        'F1 Score': f1\n",
        "    }\n",
        "\n",
        "    # Print results\n",
        "    print(f\"Results for {model_name}:\")\n",
        "    print(f\"Accuracy: {accuracy:.4f}, Precision: {precision:.4f}, Recall: {recall:.4f}, F1 Score: {f1:.4f}\")\n",
        "    print()\n",
        "\n",
        "# Optionally, save results or further analyze them\n"
      ],
      "metadata": {
        "colab": {
          "base_uri": "https://localhost:8080/",
          "height": 0
        },
        "id": "6tQ_yS7maRgC",
        "outputId": "55f616d0-bc6d-4955-fac6-591b9ccaaed0"
      },
      "execution_count": 3,
      "outputs": [
        {
          "output_type": "stream",
          "name": "stdout",
          "text": [
            "Results for Logistic Regression:\n",
            "Accuracy: 0.9066, Precision: 0.9143, Recall: 0.9475, F1 Score: 0.9306\n",
            "\n",
            "Results for Support Vector Machine:\n",
            "Accuracy: 0.9124, Precision: 0.9238, Recall: 0.9455, F1 Score: 0.9345\n",
            "\n",
            "Results for Random Forest:\n",
            "Accuracy: 0.8872, Precision: 0.8944, Recall: 0.9403, F1 Score: 0.9168\n",
            "\n"
          ]
        }
      ]
    },
    {
      "cell_type": "markdown",
      "source": [
        "---\n",
        "# Results:\n",
        "\n",
        "Results for Logistic Regression:\n",
        "* Accuracy: 0.9066\n",
        "* Precision: 0.9143\n",
        "* Recall: 0.9475\n",
        "* F1 Score: 0.9306\n",
        "\n",
        "Results for Support Vector Machine:\n",
        "* Accuracy: 0.9124\n",
        "* Precision: 0.9238\n",
        "* Recall: 0.9455\n",
        "* F1 Score: 0.9345\n",
        "\n",
        "Results for Random Forest:\n",
        "* Accuracy: 0.8872\n",
        "* Precision: 0.8944\n",
        "* Recall: 0.9403\n",
        "* F1 Score: 0.9168\n",
        "---\n",
        "\n",
        "*** THE SUPPORT VECTOR MACHINE PERFORMED WELL ***\n",
        "\n",
        "---"
      ],
      "metadata": {
        "id": "b_aNj89_sgyk"
      }
    }
  ]
}