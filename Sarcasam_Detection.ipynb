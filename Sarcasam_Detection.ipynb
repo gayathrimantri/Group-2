{
  "nbformat": 4,
  "nbformat_minor": 0,
  "metadata": {
    "colab": {
      "provenance": [],
      "collapsed_sections": [
        "HW4WDvr9zwv6",
        "OCp-5xbt0Dcu",
        "Mi_PXS8g1Trd",
        "vX_ajV2P3OsF",
        "3YFbqGbv3x3M",
        "d6wmN1mWz18w",
        "mOUBi0_a4I_i",
        "YoHfQ9j44Uar"
      ]
    },
    "kernelspec": {
      "name": "python3",
      "display_name": "Python 3"
    },
    "language_info": {
      "name": "python"
    }
  },
  "cells": [
    {
      "cell_type": "markdown",
      "source": [
        "---\n",
        "---\n",
        "# **Sarcasm Detection 🎯**\n",
        "\n",
        "> Sarcasm detection is a challenging task in natural language processing (NLP) due to the subtle and often context-dependent nature of sarcastic comments. By accurately identifying sarcasm, airlines can gain more insightful feedback from customer reviews, leading to better service improvements and customer satisfaction.\n",
        "\n",
        "\n",
        "\n",
        "---\n",
        "---"
      ],
      "metadata": {
        "id": "iiph0qku77ad"
      }
    },
    {
      "cell_type": "markdown",
      "source": [
        "---\n",
        "#Mounting your Google Drive in Google Colab\n",
        "\n",
        "---"
      ],
      "metadata": {
        "id": "HW4WDvr9zwv6"
      }
    },
    {
      "cell_type": "code",
      "execution_count": 1,
      "metadata": {
        "colab": {
          "base_uri": "https://localhost:8080/"
        },
        "id": "bTyJ9rc0xl11",
        "outputId": "75a422ba-e93b-4b8e-b508-8b3265cf3c51"
      },
      "outputs": [
        {
          "output_type": "stream",
          "name": "stdout",
          "text": [
            "Mounted at /content/drive\n"
          ]
        }
      ],
      "source": [
        "from google.colab import drive\n",
        "drive.mount('/content/drive')\n"
      ]
    },
    {
      "cell_type": "markdown",
      "source": [
        "---\n",
        "#Loading the CSV file into a pandas DataFrame\n",
        "\n",
        "---"
      ],
      "metadata": {
        "id": "OCp-5xbt0Dcu"
      }
    },
    {
      "cell_type": "code",
      "source": [
        "import pandas as pd\n",
        "\n",
        "file_path = '/content/drive/My Drive/Airline_Reviews.csv'\n",
        "df = pd.read_csv(file_path)\n",
        "print(df.head())\n"
      ],
      "metadata": {
        "colab": {
          "base_uri": "https://localhost:8080/"
        },
        "id": "NvyKRj3azQYo",
        "outputId": "e879943c-abba-4678-b205-ee3ce77bf544"
      },
      "execution_count": 2,
      "outputs": [
        {
          "output_type": "stream",
          "name": "stdout",
          "text": [
            "   Unnamed: 0   Airline Name Overall_Rating  \\\n",
            "0           0    AB Aviation              9   \n",
            "1           1    AB Aviation              1   \n",
            "2           2    AB Aviation              1   \n",
            "3           3  Adria Airways              1   \n",
            "4           4  Adria Airways              1   \n",
            "\n",
            "                            Review_Title          Review Date  Verified  \\\n",
            "0                \"pretty decent airline\"   11th November 2019      True   \n",
            "1                   \"Not a good airline\"       25th June 2019      True   \n",
            "2         \"flight was fortunately short\"       25th June 2019      True   \n",
            "3    \"I will never fly again with Adria\"  28th September 2019     False   \n",
            "4  \"it ruined our last days of holidays\"  24th September 2019      True   \n",
            "\n",
            "                                              Review       Aircraft  \\\n",
            "0    Moroni to Moheli. Turned out to be a pretty ...            NaN   \n",
            "1   Moroni to Anjouan. It is a very small airline...           E120   \n",
            "2    Anjouan to Dzaoudzi. A very small airline an...  Embraer E120    \n",
            "3    Please do a favor yourself and do not fly wi...            NaN   \n",
            "4   Do not book a flight with this airline! My fr...            NaN   \n",
            "\n",
            "  Type Of Traveller      Seat Type                             Route  \\\n",
            "0      Solo Leisure  Economy Class                  Moroni to Moheli   \n",
            "1      Solo Leisure  Economy Class                 Moroni to Anjouan   \n",
            "2      Solo Leisure  Economy Class               Anjouan to Dzaoudzi   \n",
            "3      Solo Leisure  Economy Class             Frankfurt to Pristina   \n",
            "4    Couple Leisure  Economy Class  Sofia to Amsterdam via Ljubljana   \n",
            "\n",
            "       Date Flown  Seat Comfort  Cabin Staff Service  Food & Beverages  \\\n",
            "0   November 2019           4.0                  5.0               4.0   \n",
            "1       June 2019           2.0                  2.0               1.0   \n",
            "2       June 2019           2.0                  1.0               1.0   \n",
            "3  September 2019           1.0                  1.0               NaN   \n",
            "4  September 2019           1.0                  1.0               1.0   \n",
            "\n",
            "   Ground Service  Inflight Entertainment  Wifi & Connectivity  \\\n",
            "0             4.0                     NaN                  NaN   \n",
            "1             1.0                     NaN                  NaN   \n",
            "2             1.0                     NaN                  NaN   \n",
            "3             1.0                     NaN                  NaN   \n",
            "4             1.0                     1.0                  1.0   \n",
            "\n",
            "   Value For Money Recommended  \n",
            "0              3.0         yes  \n",
            "1              2.0          no  \n",
            "2              2.0          no  \n",
            "3              1.0          no  \n",
            "4              1.0          no  \n"
          ]
        }
      ]
    },
    {
      "cell_type": "code",
      "source": [
        "# Select columns for the project\n",
        "columns_to_keep = ['Review', 'Review_Title', 'Overall_Rating', 'Recommended']\n",
        "\n",
        "# Drop other columns\n",
        "df_reduced = df[columns_to_keep]\n",
        "\n",
        "# Display the first few rows of the reduced dataframe\n",
        "df_reduced.head()\n"
      ],
      "metadata": {
        "colab": {
          "base_uri": "https://localhost:8080/",
          "height": 206
        },
        "id": "0AKo5keazQi8",
        "outputId": "eca6ae93-280b-411a-f057-e9ea78107dad"
      },
      "execution_count": 3,
      "outputs": [
        {
          "output_type": "execute_result",
          "data": {
            "text/plain": [
              "                                              Review  \\\n",
              "0    Moroni to Moheli. Turned out to be a pretty ...   \n",
              "1   Moroni to Anjouan. It is a very small airline...   \n",
              "2    Anjouan to Dzaoudzi. A very small airline an...   \n",
              "3    Please do a favor yourself and do not fly wi...   \n",
              "4   Do not book a flight with this airline! My fr...   \n",
              "\n",
              "                            Review_Title Overall_Rating Recommended  \n",
              "0                \"pretty decent airline\"              9         yes  \n",
              "1                   \"Not a good airline\"              1          no  \n",
              "2         \"flight was fortunately short\"              1          no  \n",
              "3    \"I will never fly again with Adria\"              1          no  \n",
              "4  \"it ruined our last days of holidays\"              1          no  "
            ],
            "text/html": [
              "\n",
              "  <div id=\"df-08ed868e-9e87-44bf-b8e4-39e3fa233429\" class=\"colab-df-container\">\n",
              "    <div>\n",
              "<style scoped>\n",
              "    .dataframe tbody tr th:only-of-type {\n",
              "        vertical-align: middle;\n",
              "    }\n",
              "\n",
              "    .dataframe tbody tr th {\n",
              "        vertical-align: top;\n",
              "    }\n",
              "\n",
              "    .dataframe thead th {\n",
              "        text-align: right;\n",
              "    }\n",
              "</style>\n",
              "<table border=\"1\" class=\"dataframe\">\n",
              "  <thead>\n",
              "    <tr style=\"text-align: right;\">\n",
              "      <th></th>\n",
              "      <th>Review</th>\n",
              "      <th>Review_Title</th>\n",
              "      <th>Overall_Rating</th>\n",
              "      <th>Recommended</th>\n",
              "    </tr>\n",
              "  </thead>\n",
              "  <tbody>\n",
              "    <tr>\n",
              "      <th>0</th>\n",
              "      <td>Moroni to Moheli. Turned out to be a pretty ...</td>\n",
              "      <td>\"pretty decent airline\"</td>\n",
              "      <td>9</td>\n",
              "      <td>yes</td>\n",
              "    </tr>\n",
              "    <tr>\n",
              "      <th>1</th>\n",
              "      <td>Moroni to Anjouan. It is a very small airline...</td>\n",
              "      <td>\"Not a good airline\"</td>\n",
              "      <td>1</td>\n",
              "      <td>no</td>\n",
              "    </tr>\n",
              "    <tr>\n",
              "      <th>2</th>\n",
              "      <td>Anjouan to Dzaoudzi. A very small airline an...</td>\n",
              "      <td>\"flight was fortunately short\"</td>\n",
              "      <td>1</td>\n",
              "      <td>no</td>\n",
              "    </tr>\n",
              "    <tr>\n",
              "      <th>3</th>\n",
              "      <td>Please do a favor yourself and do not fly wi...</td>\n",
              "      <td>\"I will never fly again with Adria\"</td>\n",
              "      <td>1</td>\n",
              "      <td>no</td>\n",
              "    </tr>\n",
              "    <tr>\n",
              "      <th>4</th>\n",
              "      <td>Do not book a flight with this airline! My fr...</td>\n",
              "      <td>\"it ruined our last days of holidays\"</td>\n",
              "      <td>1</td>\n",
              "      <td>no</td>\n",
              "    </tr>\n",
              "  </tbody>\n",
              "</table>\n",
              "</div>\n",
              "    <div class=\"colab-df-buttons\">\n",
              "\n",
              "  <div class=\"colab-df-container\">\n",
              "    <button class=\"colab-df-convert\" onclick=\"convertToInteractive('df-08ed868e-9e87-44bf-b8e4-39e3fa233429')\"\n",
              "            title=\"Convert this dataframe to an interactive table.\"\n",
              "            style=\"display:none;\">\n",
              "\n",
              "  <svg xmlns=\"http://www.w3.org/2000/svg\" height=\"24px\" viewBox=\"0 -960 960 960\">\n",
              "    <path d=\"M120-120v-720h720v720H120Zm60-500h600v-160H180v160Zm220 220h160v-160H400v160Zm0 220h160v-160H400v160ZM180-400h160v-160H180v160Zm440 0h160v-160H620v160ZM180-180h160v-160H180v160Zm440 0h160v-160H620v160Z\"/>\n",
              "  </svg>\n",
              "    </button>\n",
              "\n",
              "  <style>\n",
              "    .colab-df-container {\n",
              "      display:flex;\n",
              "      gap: 12px;\n",
              "    }\n",
              "\n",
              "    .colab-df-convert {\n",
              "      background-color: #E8F0FE;\n",
              "      border: none;\n",
              "      border-radius: 50%;\n",
              "      cursor: pointer;\n",
              "      display: none;\n",
              "      fill: #1967D2;\n",
              "      height: 32px;\n",
              "      padding: 0 0 0 0;\n",
              "      width: 32px;\n",
              "    }\n",
              "\n",
              "    .colab-df-convert:hover {\n",
              "      background-color: #E2EBFA;\n",
              "      box-shadow: 0px 1px 2px rgba(60, 64, 67, 0.3), 0px 1px 3px 1px rgba(60, 64, 67, 0.15);\n",
              "      fill: #174EA6;\n",
              "    }\n",
              "\n",
              "    .colab-df-buttons div {\n",
              "      margin-bottom: 4px;\n",
              "    }\n",
              "\n",
              "    [theme=dark] .colab-df-convert {\n",
              "      background-color: #3B4455;\n",
              "      fill: #D2E3FC;\n",
              "    }\n",
              "\n",
              "    [theme=dark] .colab-df-convert:hover {\n",
              "      background-color: #434B5C;\n",
              "      box-shadow: 0px 1px 3px 1px rgba(0, 0, 0, 0.15);\n",
              "      filter: drop-shadow(0px 1px 2px rgba(0, 0, 0, 0.3));\n",
              "      fill: #FFFFFF;\n",
              "    }\n",
              "  </style>\n",
              "\n",
              "    <script>\n",
              "      const buttonEl =\n",
              "        document.querySelector('#df-08ed868e-9e87-44bf-b8e4-39e3fa233429 button.colab-df-convert');\n",
              "      buttonEl.style.display =\n",
              "        google.colab.kernel.accessAllowed ? 'block' : 'none';\n",
              "\n",
              "      async function convertToInteractive(key) {\n",
              "        const element = document.querySelector('#df-08ed868e-9e87-44bf-b8e4-39e3fa233429');\n",
              "        const dataTable =\n",
              "          await google.colab.kernel.invokeFunction('convertToInteractive',\n",
              "                                                    [key], {});\n",
              "        if (!dataTable) return;\n",
              "\n",
              "        const docLinkHtml = 'Like what you see? Visit the ' +\n",
              "          '<a target=\"_blank\" href=https://colab.research.google.com/notebooks/data_table.ipynb>data table notebook</a>'\n",
              "          + ' to learn more about interactive tables.';\n",
              "        element.innerHTML = '';\n",
              "        dataTable['output_type'] = 'display_data';\n",
              "        await google.colab.output.renderOutput(dataTable, element);\n",
              "        const docLink = document.createElement('div');\n",
              "        docLink.innerHTML = docLinkHtml;\n",
              "        element.appendChild(docLink);\n",
              "      }\n",
              "    </script>\n",
              "  </div>\n",
              "\n",
              "\n",
              "<div id=\"df-8e145e28-2328-4b89-ba8b-de35427bb8e5\">\n",
              "  <button class=\"colab-df-quickchart\" onclick=\"quickchart('df-8e145e28-2328-4b89-ba8b-de35427bb8e5')\"\n",
              "            title=\"Suggest charts\"\n",
              "            style=\"display:none;\">\n",
              "\n",
              "<svg xmlns=\"http://www.w3.org/2000/svg\" height=\"24px\"viewBox=\"0 0 24 24\"\n",
              "     width=\"24px\">\n",
              "    <g>\n",
              "        <path d=\"M19 3H5c-1.1 0-2 .9-2 2v14c0 1.1.9 2 2 2h14c1.1 0 2-.9 2-2V5c0-1.1-.9-2-2-2zM9 17H7v-7h2v7zm4 0h-2V7h2v10zm4 0h-2v-4h2v4z\"/>\n",
              "    </g>\n",
              "</svg>\n",
              "  </button>\n",
              "\n",
              "<style>\n",
              "  .colab-df-quickchart {\n",
              "      --bg-color: #E8F0FE;\n",
              "      --fill-color: #1967D2;\n",
              "      --hover-bg-color: #E2EBFA;\n",
              "      --hover-fill-color: #174EA6;\n",
              "      --disabled-fill-color: #AAA;\n",
              "      --disabled-bg-color: #DDD;\n",
              "  }\n",
              "\n",
              "  [theme=dark] .colab-df-quickchart {\n",
              "      --bg-color: #3B4455;\n",
              "      --fill-color: #D2E3FC;\n",
              "      --hover-bg-color: #434B5C;\n",
              "      --hover-fill-color: #FFFFFF;\n",
              "      --disabled-bg-color: #3B4455;\n",
              "      --disabled-fill-color: #666;\n",
              "  }\n",
              "\n",
              "  .colab-df-quickchart {\n",
              "    background-color: var(--bg-color);\n",
              "    border: none;\n",
              "    border-radius: 50%;\n",
              "    cursor: pointer;\n",
              "    display: none;\n",
              "    fill: var(--fill-color);\n",
              "    height: 32px;\n",
              "    padding: 0;\n",
              "    width: 32px;\n",
              "  }\n",
              "\n",
              "  .colab-df-quickchart:hover {\n",
              "    background-color: var(--hover-bg-color);\n",
              "    box-shadow: 0 1px 2px rgba(60, 64, 67, 0.3), 0 1px 3px 1px rgba(60, 64, 67, 0.15);\n",
              "    fill: var(--button-hover-fill-color);\n",
              "  }\n",
              "\n",
              "  .colab-df-quickchart-complete:disabled,\n",
              "  .colab-df-quickchart-complete:disabled:hover {\n",
              "    background-color: var(--disabled-bg-color);\n",
              "    fill: var(--disabled-fill-color);\n",
              "    box-shadow: none;\n",
              "  }\n",
              "\n",
              "  .colab-df-spinner {\n",
              "    border: 2px solid var(--fill-color);\n",
              "    border-color: transparent;\n",
              "    border-bottom-color: var(--fill-color);\n",
              "    animation:\n",
              "      spin 1s steps(1) infinite;\n",
              "  }\n",
              "\n",
              "  @keyframes spin {\n",
              "    0% {\n",
              "      border-color: transparent;\n",
              "      border-bottom-color: var(--fill-color);\n",
              "      border-left-color: var(--fill-color);\n",
              "    }\n",
              "    20% {\n",
              "      border-color: transparent;\n",
              "      border-left-color: var(--fill-color);\n",
              "      border-top-color: var(--fill-color);\n",
              "    }\n",
              "    30% {\n",
              "      border-color: transparent;\n",
              "      border-left-color: var(--fill-color);\n",
              "      border-top-color: var(--fill-color);\n",
              "      border-right-color: var(--fill-color);\n",
              "    }\n",
              "    40% {\n",
              "      border-color: transparent;\n",
              "      border-right-color: var(--fill-color);\n",
              "      border-top-color: var(--fill-color);\n",
              "    }\n",
              "    60% {\n",
              "      border-color: transparent;\n",
              "      border-right-color: var(--fill-color);\n",
              "    }\n",
              "    80% {\n",
              "      border-color: transparent;\n",
              "      border-right-color: var(--fill-color);\n",
              "      border-bottom-color: var(--fill-color);\n",
              "    }\n",
              "    90% {\n",
              "      border-color: transparent;\n",
              "      border-bottom-color: var(--fill-color);\n",
              "    }\n",
              "  }\n",
              "</style>\n",
              "\n",
              "  <script>\n",
              "    async function quickchart(key) {\n",
              "      const quickchartButtonEl =\n",
              "        document.querySelector('#' + key + ' button');\n",
              "      quickchartButtonEl.disabled = true;  // To prevent multiple clicks.\n",
              "      quickchartButtonEl.classList.add('colab-df-spinner');\n",
              "      try {\n",
              "        const charts = await google.colab.kernel.invokeFunction(\n",
              "            'suggestCharts', [key], {});\n",
              "      } catch (error) {\n",
              "        console.error('Error during call to suggestCharts:', error);\n",
              "      }\n",
              "      quickchartButtonEl.classList.remove('colab-df-spinner');\n",
              "      quickchartButtonEl.classList.add('colab-df-quickchart-complete');\n",
              "    }\n",
              "    (() => {\n",
              "      let quickchartButtonEl =\n",
              "        document.querySelector('#df-8e145e28-2328-4b89-ba8b-de35427bb8e5 button');\n",
              "      quickchartButtonEl.style.display =\n",
              "        google.colab.kernel.accessAllowed ? 'block' : 'none';\n",
              "    })();\n",
              "  </script>\n",
              "</div>\n",
              "\n",
              "    </div>\n",
              "  </div>\n"
            ],
            "application/vnd.google.colaboratory.intrinsic+json": {
              "type": "dataframe",
              "variable_name": "df_reduced",
              "summary": "{\n  \"name\": \"df_reduced\",\n  \"rows\": 23171,\n  \"fields\": [\n    {\n      \"column\": \"Review\",\n      \"properties\": {\n        \"dtype\": \"string\",\n        \"num_unique_values\": 23046,\n        \"samples\": [\n          \"  Best airline for transatlantic travel with kids. I just traveled from Toronto to Berlin and back with two kids (5 and 7yrs old). The stopover in Iceland breaks up the trip more evenly (two medium duration flights), which was better for us than one really long and one really short flight. Also, kids get priority boarding, free food on the flight, a bag of interesting activities (stickers, games), and the entertainment system has a whole kid section. On our way back from Berlin we missed our connection because of a severe thunderstorm in Berlin (It was bad! Heavy winds and rain, thunder and lighting. I'm glad we didn't have to take off in those conditions). Once we arrived in Iceland and our flight to Toronto had left, Icelandair rebooked us on a flight for the next day and put us in a 5-star hotel for the night, with taxi, dinner, breakfast and lunch paid for. Our room had a view of the ocean and we had some time to explore the spectacular Icelandic coast. I was worried that we'd have to spend the night on a hard bench on the airport, instead we were treated to an extra day of vacation on this amazing island! Thank you, Icelandair!!\",\n          \"  We had booked a flight with Tigerair Australia for our soccer team to fly out from Sydney to Melbourne on Friday the 6th March 2020 for a soccer tournament. This flight was booked on the 20th of February 2020. After checking in the day before, we received a message from Tigerair on Friday the 6th of March at 9:30 am informing us that our flight has been cancelled \\\"due to poor weather conditions\\\" and that they had put us on the next a available flight which was on Saturday the 7th of March at 3:40 pm. However, we had already booked our hotel for Friday and our first soccer match of the tournament was on Saturday 11 am. After calling their customer service, we were told that they could not do anything about it other than provide a flight credit valid for 6 months. They also told us that we will not be given a refund as they cannot control the poor weather conditions. We were forced to book a last minute flight on the same day (Friday 6th of March) costing us $400 one way with Virgin Australia Airlines. It is interesting to know that only Tigerair had cancelled their flights for that day and no other airline did. Very poor customer service and will not book with them ever again. I hope they go bankrupt and in liquidation. It is also interesting that Tiger Airways Australia is a wholly owned subsidiary of Virgin Australia. Something fishy was definitely going on as the weather was perfectly fine on that day (both in Sydney and Melbourne).\",\n          \"  London to Kathmandu via Chengdu. I enjoyed my flight. The staff were friendly and helpful, the food was good.  I think the reason most people give bad reviews is because staff doesn't understand English and sometimes is difficult to communicate with them. \"\n        ],\n        \"semantic_type\": \"\",\n        \"description\": \"\"\n      }\n    },\n    {\n      \"column\": \"Review_Title\",\n      \"properties\": {\n        \"dtype\": \"string\",\n        \"num_unique_values\": 17219,\n        \"samples\": [\n          \"\\\"provide no after sales service\\\"\",\n          \"\\\"staff are very helpful\\\"\",\n          \"\\\"smooth and pleasant flight\\\"\"\n        ],\n        \"semantic_type\": \"\",\n        \"description\": \"\"\n      }\n    },\n    {\n      \"column\": \"Overall_Rating\",\n      \"properties\": {\n        \"dtype\": \"category\",\n        \"num_unique_values\": 10,\n        \"samples\": [\n          \"4\",\n          \"1\",\n          \"5\"\n        ],\n        \"semantic_type\": \"\",\n        \"description\": \"\"\n      }\n    },\n    {\n      \"column\": \"Recommended\",\n      \"properties\": {\n        \"dtype\": \"category\",\n        \"num_unique_values\": 2,\n        \"samples\": [\n          \"no\",\n          \"yes\"\n        ],\n        \"semantic_type\": \"\",\n        \"description\": \"\"\n      }\n    }\n  ]\n}"
            }
          },
          "metadata": {},
          "execution_count": 3
        }
      ]
    },
    {
      "cell_type": "markdown",
      "source": [
        "---\n",
        "# **Data Preprocessing**\n",
        "-> Cleaning the Review Column.\n",
        "\n",
        "->Label the data for Sarcasm detection\n",
        "  using Recomended Column.\n",
        "\n",
        "---\n",
        "\n"
      ],
      "metadata": {
        "id": "Mi_PXS8g1Trd"
      }
    },
    {
      "cell_type": "code",
      "source": [
        "import re\n",
        "import nltk\n",
        "nltk.download('stopwords')\n",
        "from nltk.corpus import stopwords\n",
        "\n",
        "def clean_text(text):\n",
        "    text = re.sub(r'\\W', ' ', str(text))\n",
        "    text = re.sub(r'\\s+[a-zA-Z]\\s+', ' ', text)\n",
        "    text = re.sub(r'\\^[a-zA-Z]\\s+', ' ', text)\n",
        "    text = re.sub(r'\\s+', ' ', text, flags=re.I)\n",
        "    text = re.sub(r'^b\\s+', '', text)\n",
        "    text = text.lower()\n",
        "    return text\n",
        "\n",
        "df_reduced['cleaned_reviews'] = df_reduced['Review'].apply(clean_text)\n",
        "\n",
        "# Create labels\n",
        "df_reduced['label'] = df_reduced['Recommended'].apply(lambda x: 1 if x == 'no' else 0)\n",
        "\n",
        "# Save the preprocessed dataframe\n",
        "preprocessed_file_path = '/content/drive/My Drive/Airline_Reviews_Preprocessed.csv'\n",
        "df_reduced.to_csv(preprocessed_file_path, index=False)\n"
      ],
      "metadata": {
        "colab": {
          "base_uri": "https://localhost:8080/"
        },
        "id": "Ar357ikqzQs4",
        "outputId": "3f7e2a15-7a64-4ded-c9e9-9a963c89755a"
      },
      "execution_count": 6,
      "outputs": [
        {
          "output_type": "stream",
          "name": "stderr",
          "text": [
            "[nltk_data] Downloading package stopwords to /root/nltk_data...\n",
            "[nltk_data]   Package stopwords is already up-to-date!\n",
            "<ipython-input-6-f9c3b9c9b9e4>:15: SettingWithCopyWarning: \n",
            "A value is trying to be set on a copy of a slice from a DataFrame.\n",
            "Try using .loc[row_indexer,col_indexer] = value instead\n",
            "\n",
            "See the caveats in the documentation: https://pandas.pydata.org/pandas-docs/stable/user_guide/indexing.html#returning-a-view-versus-a-copy\n",
            "  df_reduced['cleaned_reviews'] = df_reduced['Review'].apply(clean_text)\n",
            "<ipython-input-6-f9c3b9c9b9e4>:18: SettingWithCopyWarning: \n",
            "A value is trying to be set on a copy of a slice from a DataFrame.\n",
            "Try using .loc[row_indexer,col_indexer] = value instead\n",
            "\n",
            "See the caveats in the documentation: https://pandas.pydata.org/pandas-docs/stable/user_guide/indexing.html#returning-a-view-versus-a-copy\n",
            "  df_reduced['label'] = df_reduced['Recommended'].apply(lambda x: 1 if x == 'no' else 0)\n"
          ]
        }
      ]
    },
    {
      "cell_type": "markdown",
      "source": [
        "---\n",
        "#Feature Extraction\n",
        "\n",
        "Convert text data to numerical features using TF-IDF.\n",
        "\n",
        "---"
      ],
      "metadata": {
        "id": "vX_ajV2P3OsF"
      }
    },
    {
      "cell_type": "code",
      "source": [
        "from sklearn.feature_extraction.text import TfidfVectorizer\n",
        "\n",
        "vectorizer = TfidfVectorizer(max_features=5000, stop_words=stopwords.words('english'))\n",
        "X = vectorizer.fit_transform(df_reduced['cleaned_reviews']).toarray()\n",
        "y = df_reduced['label']\n",
        "\n",
        "# Save the features and labels\n",
        "import numpy as np\n",
        "\n",
        "np.save('/content/drive/My Drive/X_features.npy', X)\n",
        "np.save('/content/drive/My Drive/y_labels.npy', y)\n"
      ],
      "metadata": {
        "id": "oGu86SkTzQxK"
      },
      "execution_count": 7,
      "outputs": []
    },
    {
      "cell_type": "markdown",
      "source": [
        "---\n",
        "#Split Data\n",
        "\n",
        "we need to split the data into training and testing sets. This allows us to train our model on one portion of the data and evaluate its performance on another, unseen portion. This helps us understand how well our model generalizes to new data.\n",
        "\n",
        "---"
      ],
      "metadata": {
        "id": "3YFbqGbv3x3M"
      }
    },
    {
      "cell_type": "code",
      "source": [
        "from sklearn.model_selection import train_test_split\n",
        "\n",
        "X_train, X_test, y_train, y_test = train_test_split(X, y, test_size=0.2, random_state=42)\n",
        "\n",
        "# Save the split data\n",
        "np.save('/content/drive/My Drive/X_train.npy', X_train)\n",
        "np.save('/content/drive/My Drive/X_test.npy', X_test)\n",
        "np.save('/content/drive/My Drive/y_train.npy', y_train)\n",
        "np.save('/content/drive/My Drive/y_test.npy', y_test)\n"
      ],
      "metadata": {
        "id": "8mjI-aXTzQ0g"
      },
      "execution_count": 8,
      "outputs": []
    },
    {
      "cell_type": "markdown",
      "source": [
        "---\n",
        "#Model Building\n",
        "\n",
        "we build a Logistic Regression model. Logistic Regression is a linear model commonly used for binary classification tasks.\n",
        "\n",
        "---"
      ],
      "metadata": {
        "id": "d6wmN1mWz18w"
      }
    },
    {
      "cell_type": "code",
      "source": [
        "from sklearn.linear_model import LogisticRegression\n",
        "\n",
        "model = LogisticRegression()\n",
        "\n",
        "# Save the untrained model\n",
        "import joblib\n",
        "\n",
        "joblib.dump(model, '/content/drive/My Drive/logistic_regression_model.pkl')\n"
      ],
      "metadata": {
        "colab": {
          "base_uri": "https://localhost:8080/"
        },
        "id": "mpcfJ3Aa4DXP",
        "outputId": "2e4c02f1-fd5c-49e2-b0a7-3121a0b54168"
      },
      "execution_count": 9,
      "outputs": [
        {
          "output_type": "execute_result",
          "data": {
            "text/plain": [
              "['/content/drive/My Drive/logistic_regression_model.pkl']"
            ]
          },
          "metadata": {},
          "execution_count": 9
        }
      ]
    },
    {
      "cell_type": "markdown",
      "source": [
        "---\n",
        "#Train Model\n",
        "\n",
        "We then train the model using the training data.\n",
        "\n",
        "---"
      ],
      "metadata": {
        "id": "mOUBi0_a4I_i"
      }
    },
    {
      "cell_type": "code",
      "source": [
        "# Load the split data\n",
        "X_train = np.load('/content/drive/My Drive/X_train.npy')\n",
        "y_train = np.load('/content/drive/My Drive/y_train.npy')\n",
        "\n",
        "model.fit(X_train, y_train)\n",
        "\n",
        "# Save the trained model\n",
        "joblib.dump(model, '/content/drive/My Drive/logistic_regression_model_trained.pkl')\n"
      ],
      "metadata": {
        "colab": {
          "base_uri": "https://localhost:8080/"
        },
        "id": "__5Ak0wj4MXq",
        "outputId": "1c4c4101-4aab-4c4c-8d93-79d6ac331d10"
      },
      "execution_count": 10,
      "outputs": [
        {
          "output_type": "execute_result",
          "data": {
            "text/plain": [
              "['/content/drive/My Drive/logistic_regression_model_trained.pkl']"
            ]
          },
          "metadata": {},
          "execution_count": 10
        }
      ]
    },
    {
      "cell_type": "markdown",
      "source": [
        "---\n",
        "#Evaluate Model\n",
        "Finally, we evaluate the model's performance on the test data.\n",
        "\n",
        "---"
      ],
      "metadata": {
        "id": "YoHfQ9j44Uar"
      }
    },
    {
      "cell_type": "code",
      "source": [
        "# Load the test data\n",
        "X_test = np.load('/content/drive/My Drive/X_test.npy')\n",
        "y_test = np.load('/content/drive/My Drive/y_test.npy')\n",
        "\n",
        "y_pred = model.predict(X_test)\n",
        "\n",
        "from sklearn.metrics import accuracy_score, precision_score, recall_score, f1_score\n",
        "\n",
        "accuracy = accuracy_score(y_test, y_pred)\n",
        "precision = precision_score(y_test, y_pred)\n",
        "recall = recall_score(y_test, y_pred)\n",
        "f1 = f1_score(y_test, y_pred)\n",
        "\n",
        "evaluation_results = {\n",
        "    'Accuracy': accuracy,\n",
        "    'Precision': precision,\n",
        "    'Recall': recall,\n",
        "    'F1 Score': f1\n",
        "}\n",
        "\n",
        "# Save the evaluation results\n",
        "evaluation_results_file_path = '/content/drive/My Drive/evaluation_results.json'\n",
        "import json\n",
        "\n",
        "with open(evaluation_results_file_path, 'w') as f:\n",
        "    json.dump(evaluation_results, f)\n",
        "\n",
        "print(evaluation_results)\n"
      ],
      "metadata": {
        "colab": {
          "base_uri": "https://localhost:8080/"
        },
        "id": "ncOVqvup4UwG",
        "outputId": "ed581dc8-29fb-4005-ab11-4e78d425e6eb"
      },
      "execution_count": 11,
      "outputs": [
        {
          "output_type": "stream",
          "name": "stdout",
          "text": [
            "{'Accuracy': 0.9052858683926646, 'Precision': 0.9133858267716536, 'Recall': 0.9464751958224543, 'F1 Score': 0.9296361596409681}\n"
          ]
        }
      ]
    },
    {
      "cell_type": "markdown",
      "source": [
        "---\n",
        "# Results\n",
        "\n",
        "---\n",
        "The initial model achieved the following performance metrics on the test data:\n",
        "\n",
        "* Accuracy: 0.9053\n",
        "* Precision: 0.9134\n",
        "* Recall: 0.9465\n",
        "* F1 Score: 0.9296\n",
        "\n",
        "These results indicate that the model is effective in detecting sarcasm in the given dataset.\n",
        "\n",
        "---"
      ],
      "metadata": {
        "id": "g-m1mAys_K9I"
      }
    }
  ]
}